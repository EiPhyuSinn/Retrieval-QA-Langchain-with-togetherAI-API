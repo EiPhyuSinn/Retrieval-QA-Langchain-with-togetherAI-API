{
  "nbformat": 4,
  "nbformat_minor": 0,
  "metadata": {
    "colab": {
      "provenance": [],
      "gpuType": "T4",
      "authorship_tag": "ABX9TyNkaMD+fcV/r9TvwMCqG15G",
      "include_colab_link": true
    },
    "kernelspec": {
      "name": "python3",
      "display_name": "Python 3"
    },
    "language_info": {
      "name": "python"
    },
    "accelerator": "GPU"
  },
  "cells": [
    {
      "cell_type": "markdown",
      "metadata": {
        "id": "view-in-github",
        "colab_type": "text"
      },
      "source": [
        "<a href=\"https://colab.research.google.com/github/EiPhyuSinn/Retrieval-QA-Langchain-with-togetherAI-API/blob/main/qa_togetherai_mixtral_langchain.ipynb\" target=\"_parent\"><img src=\"https://colab.research.google.com/assets/colab-badge.svg\" alt=\"Open In Colab\"/></a>"
      ]
    },
    {
      "cell_type": "code",
      "execution_count": null,
      "metadata": {
        "id": "_QWGCep9tGT_"
      },
      "outputs": [],
      "source": [
        "!pip install --upgrade langchain langchain-community\n"
      ]
    },
    {
      "cell_type": "code",
      "source": [
        "pip install -U langchain-openai\n"
      ],
      "metadata": {
        "id": "oCZi3UtA5jtu"
      },
      "execution_count": null,
      "outputs": []
    },
    {
      "cell_type": "code",
      "source": [
        "from langchain_openai import ChatOpenAI\n",
        "import os\n",
        "from langchain_core.messages import HumanMessage\n",
        "\n",
        "os.environ[\"TOGETHER_API_KEY\"] = \"your_api_key\"\n",
        "\n",
        "llm = ChatOpenAI(\n",
        "    model=\"mistralai/Mixtral-8x7B-Instruct-v0.1\",\n",
        "    temperature=0.7,\n",
        "    openai_api_key=os.environ[\"TOGETHER_API_KEY\"],\n",
        "    openai_api_base=\"https://api.together.xyz/v1\",\n",
        ")\n",
        "\n",
        "response = llm.invoke([HumanMessage(content=\"What's the difference between AI and machine learning?\")])\n",
        "print(response.content)"
      ],
      "metadata": {
        "id": "b1TB3i9T5y95"
      },
      "execution_count": null,
      "outputs": []
    },
    {
      "cell_type": "code",
      "source": [
        "! pip install sentence-transformers\n"
      ],
      "metadata": {
        "id": "TG02vij9tXmF"
      },
      "execution_count": null,
      "outputs": []
    },
    {
      "cell_type": "code",
      "source": [
        "from langchain.embeddings import HuggingFaceEmbeddings\n",
        "\n",
        "embedding = HuggingFaceEmbeddings(model_name=\"all-MiniLM-L6-v2\")\n",
        "vector = embedding.embed_query(\"Hello, how are you?\")\n"
      ],
      "metadata": {
        "id": "ln_QvcXQvqnx"
      },
      "execution_count": null,
      "outputs": []
    },
    {
      "cell_type": "code",
      "source": [
        "len(vector)"
      ],
      "metadata": {
        "id": "xTcZR33x-RFk"
      },
      "execution_count": null,
      "outputs": []
    },
    {
      "cell_type": "code",
      "source": [
        "from google.colab import files\n",
        "uploaded = files.upload()\n"
      ],
      "metadata": {
        "id": "sWWArXJG_Vi8"
      },
      "execution_count": null,
      "outputs": []
    },
    {
      "cell_type": "code",
      "source": [
        "from langchain.document_loaders.csv_loader import CSVLoader\n",
        "\n",
        "loader = CSVLoader(file_path='Mental_Health_FAQ.csv',source_column='Questions')\n",
        "data = loader.load()\n",
        "data[:3]"
      ],
      "metadata": {
        "id": "U05Z8opnAFbb"
      },
      "execution_count": null,
      "outputs": []
    },
    {
      "cell_type": "code",
      "source": [
        "pip install faiss-cpu"
      ],
      "metadata": {
        "id": "rhCJZfmaBqk3"
      },
      "execution_count": null,
      "outputs": []
    },
    {
      "cell_type": "code",
      "source": [
        "from langchain_community.vectorstores import FAISS\n",
        "\n",
        "db = FAISS.from_documents(documents=data,\n",
        "                          embedding=embedding)\n",
        "retriever = db.as_retriever(score_threshold = 0.7)\n",
        "retriever"
      ],
      "metadata": {
        "id": "PvXTp9Jb-utY"
      },
      "execution_count": null,
      "outputs": []
    },
    {
      "cell_type": "code",
      "source": [
        "from langchain.prompts import PromptTemplate\n",
        "\n",
        "custom_prompt = \"\"\"\n",
        "You are provided with some context and a question. Answer the question **only** using the given context.\n",
        "Focus on extracting as much detail as possible from the \"response\" section in the document.\n",
        "If the context does not contain the answer, simply reply with \"I don't know.\" Do not make up answers.\n",
        "\n",
        "Context:\n",
        "{context}\n",
        "\n",
        "Question:\n",
        "{question}\n",
        "\"\"\"\n",
        "\n",
        "PROMPT = PromptTemplate(\n",
        "    template=custom_prompt,\n",
        "    input_variables=[\"context\", \"question\"]\n",
        ")\n",
        "\n",
        "chain_type_kwargs = {\"prompt\": PROMPT}\n",
        "\n",
        "from langchain.chains import RetrievalQA\n",
        "\n",
        "qa_chain = RetrievalQA.from_chain_type(\n",
        "    llm=llm,\n",
        "    chain_type=\"stuff\",\n",
        "    retriever=retriever,\n",
        "    input_key=\"query\",\n",
        "    return_source_documents=True,\n",
        "    chain_type_kwargs=chain_type_kwargs\n",
        ")\n"
      ],
      "metadata": {
        "id": "EFLmWQ1XB0js"
      },
      "execution_count": null,
      "outputs": []
    },
    {
      "cell_type": "code",
      "source": [
        "answer1 = qa_chain(\"What does it mean to have a mental illness?\")"
      ],
      "metadata": {
        "id": "rup4DF6SJyoA"
      },
      "execution_count": null,
      "outputs": []
    },
    {
      "cell_type": "code",
      "source": [
        "answer1.keys()"
      ],
      "metadata": {
        "id": "MpQjqHFe3cq1"
      },
      "execution_count": null,
      "outputs": []
    },
    {
      "cell_type": "code",
      "source": [
        "answer1['query']"
      ],
      "metadata": {
        "id": "V6D8VefM3ghC"
      },
      "execution_count": null,
      "outputs": []
    },
    {
      "cell_type": "code",
      "source": [
        "answer1['result']"
      ],
      "metadata": {
        "id": "9kq1K39l3kW3"
      },
      "execution_count": null,
      "outputs": []
    },
    {
      "cell_type": "code",
      "source": [
        "answer1['source_documents']"
      ],
      "metadata": {
        "id": "vMHr9hYy3qCa"
      },
      "execution_count": null,
      "outputs": []
    }
  ]
}